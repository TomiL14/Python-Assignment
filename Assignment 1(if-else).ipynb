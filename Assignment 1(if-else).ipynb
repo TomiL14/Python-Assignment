{
 "cells": [
  {
   "cell_type": "markdown",
   "metadata": {},
   "source": [
    "PROJECT: Car selector \n",
    "\n",
    "We are going to build an application that recommends a car based on the user's budget. \n",
    "\n",
    " \n",
    "\n",
    "1. Ask the user what their car buying budget is and store in a variable called budget. \n",
    "\n",
    "2. Try to convert the budget into an integer and store back in the variable called budget. \n",
    "\n",
    "3. If step 2 fails print out \"Please be realistic, you can't buy a car on rainbows and love.\" \n",
    "\n",
    "4. If their budget is greater than 75000, tell them to buy a Tesla. \n",
    "\n",
    "5. If their budget is less than 500 tell them they are better off riding the bus (it will be more reliable than a £500 car) \n",
    "\n",
    "6. Otherwise, tell them to buy a Toyota Corolla or something. \n",
    "\n",
    "7. Regardless of what their budget is let them know they can get all their car shopping done at \"\\[your name here\\] Auto Depot.\" "
   ]
  },
  {
   "cell_type": "code",
   "execution_count": 1,
   "metadata": {},
   "outputs": [
    {
     "name": "stdout",
     "output_type": "stream",
     "text": [
      "Please be realistic, you can't buy a car on rainbows and love.\n"
     ]
    }
   ],
   "source": [
    "try:\n",
    "    budget = int(input(\"What is your car buying budget? \"))\n",
    "    \n",
    "    if budget > 75000:\n",
    "        print(\"You should buy a Tesla.\")\n",
    "    elif budget < 500:\n",
    "        print(\"You're better off riding the bus.\")\n",
    "    else:\n",
    "        print(\"You should consider buying a Toyota Corolla or something.\")\n",
    "    print(\"you can get all your car shopping done at Tomisin's Auto depot\")\n",
    "except:\n",
    "    print(\"Please be realistic, you can't buy a car on rainbows and love.\")"
   ]
  }
 ],
 "metadata": {
  "kernelspec": {
   "display_name": "Python 3",
   "language": "python",
   "name": "python3"
  },
  "language_info": {
   "codemirror_mode": {
    "name": "ipython",
    "version": 3
   },
   "file_extension": ".py",
   "mimetype": "text/x-python",
   "name": "python",
   "nbconvert_exporter": "python",
   "pygments_lexer": "ipython3",
   "version": "3.9.6"
  }
 },
 "nbformat": 4,
 "nbformat_minor": 2
}
