{
 "cells": [
  {
   "cell_type": "markdown",
   "metadata": {},
   "source": [
    "### Assignment\n",
    "\n",
    "1. Please write a program which asks the user for an integer number. If the number is divisible by three, the program should print out Fizz. If the number is divisible by five, the program should print out Buzz. If the number is divisible by both three and five, the program should print out FizzBuzz. Catch any error from the user, especially if the number is not an integer. Remind them to type in a number.\n",
    "\n",
    "2. Please write a program which asks for the user's name. If the name is anything but \"Jerry\", the program then asks for the number of portions and prints out the total cost. The price of a single portion is 5.90.\n",
    "Please see the examples below to guide you:\n",
    "\n",
    "Example 1:\n",
    "Please tell me your name: Kramer\n",
    "How many portions of soup? 2\n",
    "The total cost is 11.8\n",
    "Next please!\n",
    "\n",
    "Example 2:\n",
    "Please tell me your name: Jerry\n",
    "I can't serve anyone called Jerry. Next please!"
   ]
  },
  {
   "cell_type": "code",
   "execution_count": 63,
   "metadata": {},
   "outputs": [
    {
     "name": "stdout",
     "output_type": "stream",
     "text": [
      "Please type a number as instructed\n"
     ]
    }
   ],
   "source": [
    "try:\n",
    "    number = input(\"Enter a number\")\n",
    "    if number % 3 == 0 and number % 5 == 0:\n",
    "        print(\"FizzBuzz\")\n",
    "    elif number % 3 == 0:\n",
    "        print(\"Fizz\")\n",
    "    elif number % 5 == 0:\n",
    "        print(\"Buzz\")\n",
    "\n",
    "except: \n",
    "    print(\"Please type a number as instructed\")"
   ]
  },
  {
   "cell_type": "markdown",
   "metadata": {},
   "source": [
    "name = int(input(\"What is your name?\"))\n",
    "if name != \"Jerry\":\n",
    "    soup_portion = float(input(\"How many portions of soup?\"))\n",
    "    total_cost = soup_portion * 5.90\n",
    "    print(\"total_cost \", total_cost)\n",
    "else:\n",
    "    print(\"I can't serve anyone called Jerry. Next please\")\n",
    "    \n"
   ]
  }
 ],
 "metadata": {
  "kernelspec": {
   "display_name": "Python 3",
   "language": "python",
   "name": "python3"
  },
  "language_info": {
   "codemirror_mode": {
    "name": "ipython",
    "version": 3
   },
   "file_extension": ".py",
   "mimetype": "text/x-python",
   "name": "python",
   "nbconvert_exporter": "python",
   "pygments_lexer": "ipython3",
   "version": "3.9.6"
  }
 },
 "nbformat": 4,
 "nbformat_minor": 2
}
